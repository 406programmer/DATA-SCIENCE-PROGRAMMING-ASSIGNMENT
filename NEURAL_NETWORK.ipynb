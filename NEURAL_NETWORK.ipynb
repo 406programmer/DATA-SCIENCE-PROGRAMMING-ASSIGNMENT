{
  "nbformat": 4,
  "nbformat_minor": 0,
  "metadata": {
    "colab": {
      "provenance": [],
      "authorship_tag": "ABX9TyOnj+kFiPLWiqtOy+VbTdm+",
      "include_colab_link": true
    },
    "kernelspec": {
      "name": "python3",
      "display_name": "Python 3"
    },
    "language_info": {
      "name": "python"
    }
  },
  "cells": [
    {
      "cell_type": "markdown",
      "metadata": {
        "id": "view-in-github",
        "colab_type": "text"
      },
      "source": [
        "<a href=\"https://colab.research.google.com/github/406programmer/DATA-SCIENCE-PROGRAMMING-ASSIGNMENT/blob/main/NEURAL_NETWORK.ipynb\" target=\"_parent\"><img src=\"https://colab.research.google.com/assets/colab-badge.svg\" alt=\"Open In Colab\"/></a>"
      ]
    },
    {
      "cell_type": "code",
      "source": [
        "import pandas as pd\n",
        "from sklearn.preprocessing import MinMaxScaler\n",
        "from sklearn.neural_network import MLPClassifier\n",
        "import matplotlib.pyplot as plt\n",
        "import numpy as np\n",
        "\n",
        "# Load the dataset (replace 'bank.csv' with the actual path to your dataset)\n",
        "bank_data = pd.read_csv('/content/bank.csv')\n",
        "\n",
        "# Convert binary and ordinal variables to factors\n",
        "bank_data['deposit'] = bank_data['deposit'].map({'yes': 1, 'no': 0})\n",
        "bank_data['marital'] = pd.Categorical(bank_data['marital'])\n",
        "bank_data['education'] = pd.Categorical(bank_data['education'])\n",
        "bank_data['default'] = pd.Categorical(bank_data['default'])\n",
        "bank_data['housing'] = pd.Categorical(bank_data['housing'])\n",
        "bank_data['loan'] = pd.Categorical(bank_data['loan'])\n",
        "bank_data['contact'] = pd.Categorical(bank_data['contact'])\n",
        "bank_data['month'] = pd.Categorical(bank_data['month'])\n",
        "bank_data['poutcome'] = pd.Categorical(bank_data['poutcome'])\n",
        "\n",
        "# Perform min-max standardization on the Age variable\n",
        "bank_data['age_mm'] = (bank_data['age'] - bank_data['age'].min()) / (bank_data['age'].max() - bank_data['age'].min())\n",
        "\n",
        "# Select relevant columns\n",
        "selected_columns = [\"deposit\", \"marital\", \"education\", \"default\", \"housing\", \"loan\", \"contact\", \"month\", \"poutcome\", \"age_mm\"]\n",
        "\n",
        "# Create a DataFrame with selected columns\n",
        "fram_train = bank_data[selected_columns]\n",
        "\n",
        "# Convert categorical variables to dummy variables\n",
        "fram_train = pd.get_dummies(fram_train, columns=[\"marital\", \"education\", \"default\", \"housing\", \"loan\", \"contact\", \"month\", \"poutcome\"])\n",
        "\n",
        "# Split the data into predictor variables (X) and the target variable (y)\n",
        "X = fram_train.drop(\"deposit\", axis=1)\n",
        "y = fram_train[\"deposit\"]\n",
        "\n",
        "# Initialize the MinMaxScaler\n",
        "scaler = MinMaxScaler()\n",
        "\n",
        "# Scale the predictor variables\n",
        "X_scaled = scaler.fit_transform(X)\n",
        "\n",
        "# Run the neural network algorithm\n",
        "nnet01 = MLPClassifier(hidden_layer_sizes=(1,), max_iter=1000)\n",
        "nnet01.fit(X_scaled, y)\n",
        "\n",
        "# Extract weights and biases from the trained neural network\n",
        "weights = [coef.T for coef in nnet01.coefs_]\n",
        "biases = nnet01.intercepts_\n",
        "\n",
        "# Create a plot\n",
        "fig, ax = plt.subplots(figsize=(10, 8))\n",
        "\n",
        "# Draw edges (connections) between neurons\n",
        "for layer in range(1, len(weights)):\n",
        "    for i in range(len(weights[layer - 1])):\n",
        "        for j in range(len(weights[layer][0])):\n",
        "            # Limit alpha value to be within 0 to 1\n",
        "            alpha_value = min(max(abs(weights[layer - 1][i, j]), 0), 1)\n",
        "            ax.arrow(layer - 1, i, 1, j - i, color='black', linewidth=0.1, alpha=alpha_value)\n",
        "\n",
        "# Draw nodes (neurons)\n",
        "for layer in range(len(biases)):\n",
        "    for i in range(len(biases[layer])):\n",
        "        ax.scatter(layer, i, color='red', s=100)\n",
        "\n",
        "# Set labels and title\n",
        "ax.set_xticks(np.arange(len(weights) + 1))\n",
        "ax.set_xticklabels(['Input'] + [f'Hidden {i}' for i in range(1, len(weights))] + ['Output'])\n",
        "ax.set_yticks(np.arange(max([len(bias) for bias in biases])))\n",
        "ax.set_yticklabels([f'Neuron {i}' for i in range(max([len(bias) for bias in biases]))])\n",
        "ax.set_title('Neural Network Architecture')\n",
        "\n",
        "plt.show()\n"
      ],
      "metadata": {
        "id": "FLEJtyt3MjOG"
      },
      "execution_count": null,
      "outputs": []
    }
  ]
}