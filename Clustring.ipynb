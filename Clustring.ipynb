{
  "nbformat": 4,
  "nbformat_minor": 0,
  "metadata": {
    "colab": {
      "provenance": [],
      "authorship_tag": "ABX9TyOZf8korxmQze6i2f1gfO6w",
      "include_colab_link": true
    },
    "kernelspec": {
      "name": "python3",
      "display_name": "Python 3"
    },
    "language_info": {
      "name": "python"
    }
  },
  "cells": [
    {
      "cell_type": "markdown",
      "metadata": {
        "id": "view-in-github",
        "colab_type": "text"
      },
      "source": [
        "<a href=\"https://colab.research.google.com/github/406programmer/DATA-SCIENCE-PROGRAMMING-ASSIGNMENT/blob/main/Clustring.ipynb\" target=\"_parent\"><img src=\"https://colab.research.google.com/assets/colab-badge.svg\" alt=\"Open In Colab\"/></a>"
      ]
    },
    {
      "cell_type": "markdown",
      "source": [
        "# # Demonstrate  application of k‐MEANS CLUSTERING Using R/Python"
      ],
      "metadata": {
        "id": "iJLwEiIRN3ix"
      }
    },
    {
      "cell_type": "code",
      "execution_count": null,
      "metadata": {
        "colab": {
          "base_uri": "https://localhost:8080/"
        },
        "id": "Hbuh90rYNt5A",
        "outputId": "4276e603-1701-4614-8481-f1206cd4abdd"
      },
      "outputs": [
        {
          "output_type": "stream",
          "name": "stderr",
          "text": [
            "/usr/local/lib/python3.10/dist-packages/sklearn/cluster/_kmeans.py:870: FutureWarning: The default value of `n_init` will change from 10 to 'auto' in 1.4. Set the value of `n_init` explicitly to suppress the warning\n",
            "  warnings.warn(\n"
          ]
        },
        {
          "output_type": "stream",
          "name": "stdout",
          "text": [
            "Cluster 1 Summary Statistics:\n",
            "           balance     duration\n",
            "count  8937.000000  8937.000000\n",
            "mean     -0.037415    -0.404929\n",
            "std       0.805009     0.411873\n",
            "min      -2.596850    -1.065918\n",
            "25%      -0.438270    -0.728852\n",
            "50%      -0.312079    -0.483975\n",
            "75%       0.033319    -0.138266\n",
            "max      10.977833     0.656865\n",
            "\n",
            "Cluster 2 Summary Statistics:\n",
            "           balance     duration\n",
            "count  2225.000000  2225.000000\n",
            "mean      0.150284     1.626451\n",
            "std       1.544943     1.015799\n",
            "min      -1.422064    -0.757661\n",
            "25%      -0.427108     0.919027\n",
            "50%      -0.265261     1.348283\n",
            "75%       0.178113     2.039700\n",
            "max      24.703510    10.109123\n"
          ]
        }
      ],
      "source": [
        "import pandas as pd\n",
        "from sklearn.cluster import KMeans\n",
        "from sklearn.preprocessing import StandardScaler\n",
        "\n",
        "# Load the dataset (replace 'bank.csv' with the actual path to your dataset)\n",
        "bank_data = pd.read_csv('/content/bank.csv')\n",
        "\n",
        "# Select predictor variables (replace with your actual predictor variables)\n",
        "X = bank_data[[\"balance\", \"duration\"]]\n",
        "\n",
        "# Standardize the predictor variables using z-score transformation\n",
        "scaler = StandardScaler()\n",
        "Xz = pd.DataFrame(scaler.fit_transform(X), columns=[\"balance\", \"duration\"])\n",
        "\n",
        "# Run k-means clustering on the training data set\n",
        "kmeans_model = KMeans(n_clusters=2).fit(Xz)\n",
        "\n",
        "# Get cluster membership for each record\n",
        "cluster_membership = kmeans_model.labels_\n",
        "\n",
        "# Separate records into two groups based on cluster membership\n",
        "cluster1 = Xz.loc[cluster_membership == 0]\n",
        "cluster2 = Xz.loc[cluster_membership == 1]\n",
        "\n",
        "# Compute summary statistics for the two clusters\n",
        "print(\"Cluster 1 Summary Statistics:\")\n",
        "print(cluster1.describe())\n",
        "\n",
        "print(\"\\nCluster 2 Summary Statistics:\")\n",
        "print(cluster2.describe())\n"
      ]
    }
  ]
}