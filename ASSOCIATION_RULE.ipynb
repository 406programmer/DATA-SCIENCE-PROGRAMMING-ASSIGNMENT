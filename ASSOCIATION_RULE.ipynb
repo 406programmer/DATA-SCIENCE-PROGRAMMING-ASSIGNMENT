{
  "nbformat": 4,
  "nbformat_minor": 0,
  "metadata": {
    "colab": {
      "provenance": [],
      "authorship_tag": "ABX9TyMhQt0qHQ9zVbVnNyi9E/x+",
      "include_colab_link": true
    },
    "kernelspec": {
      "name": "python3",
      "display_name": "Python 3"
    },
    "language_info": {
      "name": "python"
    }
  },
  "cells": [
    {
      "cell_type": "markdown",
      "metadata": {
        "id": "view-in-github",
        "colab_type": "text"
      },
      "source": [
        "<a href=\"https://colab.research.google.com/github/406programmer/DATA-SCIENCE-PROGRAMMING-ASSIGNMENT/blob/main/ASSOCIATION_RULE.ipynb\" target=\"_parent\"><img src=\"https://colab.research.google.com/assets/colab-badge.svg\" alt=\"Open In Colab\"/></a>"
      ]
    },
    {
      "cell_type": "code",
      "source": [
        "!pip install apyori"
      ],
      "metadata": {
        "colab": {
          "base_uri": "https://localhost:8080/"
        },
        "id": "qDkxsk3xY3yN",
        "outputId": "11f5aa51-c591-4766-ad62-98bac548dede"
      },
      "execution_count": null,
      "outputs": [
        {
          "output_type": "stream",
          "name": "stdout",
          "text": [
            "Collecting apyori\n",
            "  Downloading apyori-1.1.2.tar.gz (8.6 kB)\n",
            "  Preparing metadata (setup.py) ... \u001b[?25l\u001b[?25hdone\n",
            "Building wheels for collected packages: apyori\n",
            "  Building wheel for apyori (setup.py) ... \u001b[?25l\u001b[?25hdone\n",
            "  Created wheel for apyori: filename=apyori-1.1.2-py3-none-any.whl size=5954 sha256=5571f6ba9026fa4308c4453255e86f283269c260131b47d27366bd36a9e381c6\n",
            "  Stored in directory: /root/.cache/pip/wheels/c4/1a/79/20f55c470a50bb3702a8cb7c94d8ada15573538c7f4baebe2d\n",
            "Successfully built apyori\n",
            "Installing collected packages: apyori\n",
            "Successfully installed apyori-1.1.2\n"
          ]
        }
      ]
    },
    {
      "cell_type": "markdown",
      "source": [
        "# How to Mine Association Rules Using R/Python"
      ],
      "metadata": {
        "id": "SZj3CucOWosS"
      }
    },
    {
      "cell_type": "code",
      "execution_count": null,
      "metadata": {
        "colab": {
          "base_uri": "https://localhost:8080/"
        },
        "id": "-nC1R8_VWi5f",
        "outputId": "588f8b6f-2ad0-4336-f0c5-908e737832e4"
      },
      "outputs": [
        {
          "output_type": "stream",
          "name": "stdout",
          "text": [
            "Index(['job', 'marital', 'education', 'default', 'housing', 'loan', 'contact',\n",
            "       'poutcome', 'deposit'],\n",
            "      dtype='object')\n",
            "Column 'CustServ Calls' not found in the dataset.\n"
          ]
        }
      ],
      "source": [
        "import pandas as pd\n",
        "from apyori import apriori\n",
        "\n",
        "# Load the bank dataset (replace 'bank.csv' with the actual path to your dataset)\n",
        "bank_data = pd.read_csv('/content/bank.csv')\n",
        "\n",
        "# Subset the data to include only the relevant columns\n",
        "min_bank = bank_data[['job', 'marital', 'education', 'default', 'housing', 'loan', 'contact', 'poutcome', 'deposit']]\n",
        "\n",
        "# Print column names to check for correctness\n",
        "print(min_bank.columns)\n",
        "\n",
        "# Convert categorical variables to string for apyori\n",
        "min_bank = min_bank.astype(str)\n",
        "\n",
        "# Check if \"CustServ Calls\" is in the column names\n",
        "if 'CustServ Calls' in min_bank.columns:\n",
        "    # Convert Customer Service Calls to a factor\n",
        "    min_bank['CustServ Calls'] = pd.Categorical(min_bank['CustServ Calls'], ordered=True)\n",
        "\n",
        "    # Obtain baseline distribution information\n",
        "    baseline_tables = []\n",
        "    for column in min_bank.columns:\n",
        "        t = pd.crosstab(min_bank[column], margins=True, margins_name='Total', normalize='index')\n",
        "        baseline_tables.append(t)\n",
        "\n",
        "    # Install and load the apyori package (if not already installed)\n",
        "    # !pip install apyori\n",
        "    from apyori import apriori\n",
        "\n",
        "    # Flatten the tables for apyori\n",
        "    transactions = []\n",
        "    for t in baseline_tables:\n",
        "        transactions.append([(str(item),) for item in t.index if item != 'Total'])\n",
        "\n",
        "    # Run apriori algorithm\n",
        "    rules = apriori(transactions, min_support=0.01, min_confidence=0.4, min_lift=1, min_length=2)\n",
        "\n",
        "    # Convert apyori results to a dataframe for further analysis\n",
        "    rules_df = pd.DataFrame(list(rules))\n",
        "\n",
        "    # Filter out rules containing 'deposit' in antecedent\n",
        "    filtered_rules_df = rules_df[~rules_df['items'].astype(str).str.contains('deposit')]\n",
        "\n",
        "    # Display the top 10 rules sorted by lift\n",
        "    top_rules = filtered_rules_df.sort_values(by='lift', ascending=False).head(10)\n",
        "    print(top_rules)\n",
        "else:\n",
        "    print(\"Column 'CustServ Calls' not found in the dataset.\")\n"
      ]
    },
    {
      "cell_type": "markdown",
      "source": [
        "# How to Apply the Confidence Quotient Criterion Using Python"
      ],
      "metadata": {
        "id": "P4cfRJXUZgxV"
      }
    },
    {
      "cell_type": "code",
      "source": [
        "import pandas as pd\n",
        "from apyori import apriori\n",
        "\n",
        "# Load the bank dataset (replace 'bank.csv' with the actual path to your dataset)\n",
        "bank_data = pd.read_csv('/content/bank.csv')\n",
        "\n",
        "# Subset the data to include only the relevant columns\n",
        "min_bank = bank_data[['job', 'marital', 'education', 'default', 'housing', 'loan', 'contact', 'poutcome', 'deposit']]\n",
        "\n",
        "# Convert categorical variables to string for apyori\n",
        "min_bank = min_bank.astype(str)\n",
        "\n",
        "# Flatten the tables for apyori\n",
        "transactions = []\n",
        "for column in min_bank.columns:\n",
        "    transactions.append([(str(item),) for item in pd.unique(min_bank[column])])\n",
        "\n",
        "# Run apriori algorithm with Confidence Quotient criterion\n",
        "rules_confquot = apriori(transactions, min_support=0.01, min_confidence=0.05, min_lift=1, min_length=2, max_length=2,\n",
        "                        arem=\"quot\", aval=True, minval=0.4, target=\"rules\")\n",
        "\n",
        "# Convert apyori results to a dataframe for further analysis\n",
        "rules_confquot_df = pd.DataFrame(list(rules_confquot))\n",
        "\n",
        "# Filter out rules containing 'deposit' in antecedent\n",
        "filtered_rules_confquot_df = rules_confquot_df[~rules_confquot_df['items'].astype(str).str.contains(\"deposit\")]\n",
        "\n",
        "# Display the rules\n",
        "print(filtered_rules_confquot_df)\n"
      ],
      "metadata": {
        "colab": {
          "base_uri": "https://localhost:8080/"
        },
        "id": "6FehZMmwZhWB",
        "outputId": "fb7efade-1549-4aa5-df4a-f5e2375e7ab7"
      },
      "execution_count": null,
      "outputs": [
        {
          "output_type": "stream",
          "name": "stdout",
          "text": [
            "                              items   support  \\\n",
            "0                       ((admin.,))  0.111111   \n",
            "1                  ((blue-collar,))  0.111111   \n",
            "2                     ((cellular,))  0.111111   \n",
            "3                     ((divorced,))  0.111111   \n",
            "4                 ((entrepreneur,))  0.111111   \n",
            "..                              ...       ...   \n",
            "105  ((technician,), (unemployed,))  0.111111   \n",
            "106     ((technician,), (unknown,))  0.111111   \n",
            "107      ((unknown,), (telephone,))  0.111111   \n",
            "108       ((unknown,), (tertiary,))  0.111111   \n",
            "109     ((unknown,), (unemployed,))  0.111111   \n",
            "\n",
            "                                    ordered_statistics  \n",
            "0       [((), (('admin.',)), 0.1111111111111111, 1.0)]  \n",
            "1    [((), (('blue-collar',)), 0.1111111111111111, ...  \n",
            "2     [((), (('cellular',)), 0.1111111111111111, 1.0)]  \n",
            "3     [((), (('divorced',)), 0.1111111111111111, 1.0)]  \n",
            "4    [((), (('entrepreneur',)), 0.1111111111111111,...  \n",
            "..                                                 ...  \n",
            "105  [((), (('technician',), ('unemployed',)), 0.11...  \n",
            "106  [((), (('technician',), ('unknown',)), 0.11111...  \n",
            "107  [((), (('telephone',), ('unknown',)), 0.111111...  \n",
            "108  [((), (('unknown',), ('tertiary',)), 0.1111111...  \n",
            "109  [((), (('unknown',), ('unemployed',)), 0.11111...  \n",
            "\n",
            "[110 rows x 3 columns]\n"
          ]
        }
      ]
    },
    {
      "cell_type": "markdown",
      "source": [
        "# How to Apply the Confidence Difference Criterion Using Python"
      ],
      "metadata": {
        "id": "JNDaNLm8ZVAq"
      }
    },
    {
      "cell_type": "code",
      "source": [
        "import pandas as pd\n",
        "from apyori import apriori\n",
        "\n",
        "# Load the bank dataset (replace 'bank.csv' with the actual path to your dataset)\n",
        "bank_data = pd.read_csv('/content/bank.csv')\n",
        "\n",
        "# Subset the data to include only the relevant columns\n",
        "min_bank = bank_data[['job', 'marital', 'education', 'default', 'housing', 'loan', 'contact', 'poutcome', 'deposit']]\n",
        "\n",
        "# Convert categorical variables to string for apyori\n",
        "min_bank = min_bank.astype(str)\n",
        "\n",
        "# Flatten the tables for apyori\n",
        "transactions = []\n",
        "for column in min_bank.columns:\n",
        "    transactions.append([(str(item),) for item in pd.unique(min_bank[column])])\n",
        "\n",
        "# Run apriori algorithm with confidence difference criterion\n",
        "rules_confdiff = apriori(transactions, min_support=0.01, min_confidence=0.4, min_lift=1, min_length=2)\n",
        "\n",
        "# Display all rules before filtering\n",
        "for rule in rules_confdiff:\n",
        "    print(rule)\n",
        "\n",
        "# Filter rules based on confidence difference criterion\n",
        "confidence_difference_threshold = 0.1  # Set your desired confidence difference threshold\n",
        "filtered_rules_confdiff = [\n",
        "    rule for rule in rules_confdiff\n",
        "    if any(\n",
        "        abs(stat.confidence - rule.ordered_statistics[i].confidence) >= confidence_difference_threshold\n",
        "        for i, stat in enumerate(rule.ordered_statistics)\n",
        "    )\n",
        "]\n",
        "\n",
        "# Display the filtered rules\n",
        "for rule in filtered_rules_confdiff[:10]:\n",
        "    print(rule)\n"
      ],
      "metadata": {
        "id": "t8XLHrlSZVeb"
      },
      "execution_count": null,
      "outputs": []
    }
  ]
}