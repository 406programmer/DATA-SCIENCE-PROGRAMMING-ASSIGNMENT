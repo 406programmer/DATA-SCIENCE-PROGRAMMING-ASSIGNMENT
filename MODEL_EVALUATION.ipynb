{
  "nbformat": 4,
  "nbformat_minor": 0,
  "metadata": {
    "colab": {
      "provenance": [],
      "authorship_tag": "ABX9TyO8WV8kmcITNoBUKiEaiqjz",
      "include_colab_link": true
    },
    "kernelspec": {
      "name": "python3",
      "display_name": "Python 3"
    },
    "language_info": {
      "name": "python"
    }
  },
  "cells": [
    {
      "cell_type": "markdown",
      "metadata": {
        "id": "view-in-github",
        "colab_type": "text"
      },
      "source": [
        "<a href=\"https://colab.research.google.com/github/406programmer/DATA-SCIENCE-PROGRAMMING-ASSIGNMENT/blob/main/MODEL_EVALUATION.ipynb\" target=\"_parent\"><img src=\"https://colab.research.google.com/assets/colab-badge.svg\" alt=\"Open In Colab\"/></a>"
      ]
    },
    {
      "cell_type": "markdown",
      "source": [
        "# How to Perform Model Evaluation Using R/Python"
      ],
      "metadata": {
        "id": "DkYIkjLgnkD2"
      }
    },
    {
      "cell_type": "code",
      "source": [
        "import pandas as pd\n",
        "from sklearn.model_selection import train_test_split\n",
        "from sklearn.tree import DecisionTreeClassifier\n",
        "from sklearn.metrics import accuracy_score, precision_score, recall_score, f1_score, confusion_matrix\n",
        "\n",
        "# Load the dataset (replace 'bank.csv' with the actual path to your dataset)\n",
        "bank_data = pd.read_csv('/content/bank.csv')\n",
        "\n",
        "# Replace these columns with your actual predictor and response variable names\n",
        "predictor_columns = [\"age\", \"balance\", \"day\", \"duration\", \"campaign\", \"pdays\", \"previous\"]\n",
        "response_column = \"deposit\"\n",
        "\n",
        "# Assuming categorical variables are already one-hot encoded\n",
        "# If not, use bank_data = pd.get_dummies(bank_data, columns=[\"job\", \"marital\", \"education\", \"default\", \"housing\", \"loan\", \"contact\", \"month\", \"poutcome\"])\n",
        "\n",
        "# Convert 'yes' and 'no' to 1 and 0\n",
        "bank_data[response_column] = bank_data[response_column].map({'yes': 1, 'no': 0})\n",
        "\n",
        "# Split the data into training and test sets\n",
        "bank_train, bank_test = train_test_split(bank_data, test_size=0.2, random_state=42)\n",
        "\n",
        "# Create and train the decision tree model\n",
        "model = DecisionTreeClassifier()\n",
        "model.fit(bank_train[predictor_columns], bank_train[response_column])\n",
        "\n",
        "# Make predictions on the test set\n",
        "ypred = model.predict(bank_test[predictor_columns])\n",
        "\n",
        "# Evaluate the model\n",
        "accuracy = accuracy_score(bank_test[response_column], ypred)\n",
        "precision = precision_score(bank_test[response_column], ypred, pos_label=1)  # Specify pos_label\n",
        "recall = recall_score(bank_test[response_column], ypred)\n",
        "f1 = f1_score(bank_test[response_column], ypred)\n",
        "conf_matrix = confusion_matrix(bank_test[response_column], ypred)\n",
        "\n",
        "print(f\"Accuracy: {accuracy}\")\n",
        "print(f\"Precision: {precision}\")\n",
        "print(f\"Recall: {recall}\")\n",
        "print(f\"F1 Score: {f1}\")\n",
        "print(\"Confusion Matrix:\")\n",
        "print(conf_matrix)\n"
      ],
      "metadata": {
        "colab": {
          "base_uri": "https://localhost:8080/"
        },
        "id": "a9D5JyMynjks",
        "outputId": "212e8032-7269-4313-9d91-b29cdc0404b8"
      },
      "execution_count": 1,
      "outputs": [
        {
          "output_type": "stream",
          "name": "stdout",
          "text": [
            "Accuracy: 0.7053291536050157\n",
            "Precision: 0.6938388625592417\n",
            "Recall: 0.6860356138706654\n",
            "F1 Score: 0.6899151743638077\n",
            "Confusion Matrix:\n",
            "[[843 323]\n",
            " [335 732]]\n"
          ]
        }
      ]
    }
  ]
}