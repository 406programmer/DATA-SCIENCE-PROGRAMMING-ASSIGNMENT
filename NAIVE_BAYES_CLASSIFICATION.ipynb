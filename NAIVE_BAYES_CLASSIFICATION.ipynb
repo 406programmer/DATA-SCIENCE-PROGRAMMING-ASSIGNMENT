{
  "nbformat": 4,
  "nbformat_minor": 0,
  "metadata": {
    "colab": {
      "provenance": [],
      "authorship_tag": "ABX9TyMY68bqnYcSods0lJt4+e0y",
      "include_colab_link": true
    },
    "kernelspec": {
      "name": "python3",
      "display_name": "Python 3"
    },
    "language_info": {
      "name": "python"
    }
  },
  "cells": [
    {
      "cell_type": "markdown",
      "metadata": {
        "id": "view-in-github",
        "colab_type": "text"
      },
      "source": [
        "<a href=\"https://colab.research.google.com/github/406programmer/DATA-SCIENCE-PROGRAMMING-ASSIGNMENT/blob/main/NAIVE_BAYES_CLASSIFICATION.ipynb\" target=\"_parent\"><img src=\"https://colab.research.google.com/assets/colab-badge.svg\" alt=\"Open In Colab\"/></a>"
      ]
    },
    {
      "cell_type": "markdown",
      "source": [
        "## Demonstrate application of Naïve Bayes Using R/Python"
      ],
      "metadata": {
        "id": "yE0h451nF1_N"
      }
    },
    {
      "cell_type": "code",
      "execution_count": null,
      "metadata": {
        "colab": {
          "base_uri": "https://localhost:8080/"
        },
        "id": "LwHaneCyFE-U",
        "outputId": "166d8e3b-dc73-4b20-a194-c494337a2109"
      },
      "outputs": [
        {
          "output_type": "stream",
          "name": "stdout",
          "text": [
            "Contingency Table:\n",
            "Predicted    0    1  Total\n",
            "Actual                    \n",
            "0          132   47    179\n",
            "1          127  245    372\n",
            "Total      259  292    551\n"
          ]
        }
      ],
      "source": [
        "# Demonstrate application of Naïve Bayes Using Python\n",
        "\n",
        "from sklearn.model_selection import train_test_split\n",
        "import pandas as pd\n",
        "import numpy as np\n",
        "from sklearn.naive_bayes import MultinomialNB\n",
        "\n",
        "# Load the dataset (replace 'bank.csv' with the actual path to your dataset)\n",
        "bank_data = pd.read_csv('/content/bank.csv')\n",
        "\n",
        "# Remove rows with negative values in 'balance' and 'pdays'\n",
        "bank_data = bank_data[(bank_data['balance'] >= 0) & (bank_data['pdays'] >= 0)]\n",
        "\n",
        "# Replace these columns with your actual predictor and response variable names\n",
        "predictor_columns = [\"age\", \"balance\", \"day\", \"duration\", \"campaign\", \"pdays\", \"previous\"]\n",
        "response_column = \"deposit\"\n",
        "\n",
        "# Convert 'yes' and 'no' to 1 and 0\n",
        "bank_data[response_column] = bank_data[response_column].map({'yes': 1, 'no': 0})\n",
        "\n",
        "# Split the data into training and test sets\n",
        "bank_train, bank_test = train_test_split(bank_data, test_size=0.2, random_state=42)\n",
        "\n",
        "# Create dummy variables for categorical variables using get_dummies\n",
        "bank_train = pd.get_dummies(bank_train, columns=[\"job\", \"marital\", \"education\", \"default\", \"housing\", \"loan\", \"contact\", \"month\", \"poutcome\"])\n",
        "bank_test = pd.get_dummies(bank_test, columns=[\"job\", \"marital\", \"education\", \"default\", \"housing\", \"loan\", \"contact\", \"month\", \"poutcome\"])\n",
        "\n",
        "# Extract predictor variables and target variable\n",
        "X_train = bank_train[predictor_columns + bank_train.columns[bank_train.columns.str.startswith('job_')].tolist()]\n",
        "y_train = bank_train[response_column]\n",
        "\n",
        "X_test = bank_test[predictor_columns + bank_test.columns[bank_test.columns.str.startswith('job_')].tolist()]\n",
        "y_test = bank_test[response_column]\n",
        "\n",
        "# Create and train the Naïve Bayes model\n",
        "nb_model = MultinomialNB().fit(X_train, y_train)\n",
        "\n",
        "# Generate predictions for the test set\n",
        "Y_predicted = nb_model.predict(X_test)\n",
        "\n",
        "# Evaluate the model\n",
        "ypred = pd.crosstab(y_test, Y_predicted, rownames=['Actual'], colnames=['Predicted'])\n",
        "ypred['Total'] = ypred.sum(axis=1)\n",
        "ypred.loc['Total'] = ypred.sum()\n",
        "\n",
        "print(\"Contingency Table:\")\n",
        "print(ypred)\n"
      ]
    },
    {
      "cell_type": "markdown",
      "source": [],
      "metadata": {
        "id": "QPImARdKF06x"
      }
    }
  ]
}