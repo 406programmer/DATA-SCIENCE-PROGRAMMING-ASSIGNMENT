{
  "nbformat": 4,
  "nbformat_minor": 0,
  "metadata": {
    "colab": {
      "provenance": [],
      "authorship_tag": "ABX9TyPpMGZdmwI1hX6f75zRWUMH",
      "include_colab_link": true
    },
    "kernelspec": {
      "name": "python3",
      "display_name": "Python 3"
    },
    "language_info": {
      "name": "python"
    }
  },
  "cells": [
    {
      "cell_type": "markdown",
      "metadata": {
        "id": "view-in-github",
        "colab_type": "text"
      },
      "source": [
        "<a href=\"https://colab.research.google.com/github/406programmer/DATA-SCIENCE-PROGRAMMING-ASSIGNMENT/blob/main/BASIS_OF_PYTHON.ipynb\" target=\"_parent\"><img src=\"https://colab.research.google.com/assets/colab-badge.svg\" alt=\"Open In Colab\"/></a>"
      ]
    },
    {
      "cell_type": "markdown",
      "source": [
        "# Using Comments Python"
      ],
      "metadata": {
        "id": "-l6BpG1Zap4k"
      }
    },
    {
      "cell_type": "code",
      "source": [
        "#python comment are used using \"#\" keyword"
      ],
      "metadata": {
        "id": "KhZ2B4HDaji6"
      },
      "execution_count": null,
      "outputs": []
    },
    {
      "cell_type": "markdown",
      "source": [
        "# Importing Packages Python"
      ],
      "metadata": {
        "id": "Hid9Tqf9bFPA"
      }
    },
    {
      "cell_type": "code",
      "source": [
        "!pip install pandas\n"
      ],
      "metadata": {
        "colab": {
          "base_uri": "https://localhost:8080/"
        },
        "id": "rvjuTnZrbF17",
        "outputId": "79d3f35d-c7b0-4fdd-b9a6-416459c2e27d"
      },
      "execution_count": 1,
      "outputs": [
        {
          "output_type": "stream",
          "name": "stdout",
          "text": [
            "Requirement already satisfied: pandas in /usr/local/lib/python3.10/dist-packages (1.5.3)\n",
            "Requirement already satisfied: python-dateutil>=2.8.1 in /usr/local/lib/python3.10/dist-packages (from pandas) (2.8.2)\n",
            "Requirement already satisfied: pytz>=2020.1 in /usr/local/lib/python3.10/dist-packages (from pandas) (2023.3.post1)\n",
            "Requirement already satisfied: numpy>=1.21.0 in /usr/local/lib/python3.10/dist-packages (from pandas) (1.23.5)\n",
            "Requirement already satisfied: six>=1.5 in /usr/local/lib/python3.10/dist-packages (from python-dateutil>=2.8.1->pandas) (1.16.0)\n"
          ]
        }
      ]
    },
    {
      "cell_type": "markdown",
      "source": [
        "# Getting Data into python"
      ],
      "metadata": {
        "id": "GJWuUFOtbtGG"
      }
    },
    {
      "cell_type": "markdown",
      "source": [
        "Saving Output Python"
      ],
      "metadata": {
        "id": "CFoutUovcKv8"
      }
    },
    {
      "cell_type": "code",
      "source": [
        "import pandas as pd\n",
        "data = pd.read_csv('/content/student_data.csv')\n",
        "print(data)"
      ],
      "metadata": {
        "colab": {
          "base_uri": "https://localhost:8080/"
        },
        "id": "Noi91x1tbzAC",
        "outputId": "ee0843f6-4091-4746-ed14-98bc572c12a1"
      },
      "execution_count": 3,
      "outputs": [
        {
          "output_type": "stream",
          "name": "stdout",
          "text": [
            "    school sex  age address famsize Pstatus  Medu  Fedu      Mjob      Fjob  \\\n",
            "0       GP   F   18       U     GT3       A     4     4   at_home   teacher   \n",
            "1       GP   F   17       U     GT3       T     1     1   at_home     other   \n",
            "2       GP   F   15       U     LE3       T     1     1   at_home     other   \n",
            "3       GP   F   15       U     GT3       T     4     2    health  services   \n",
            "4       GP   F   16       U     GT3       T     3     3     other     other   \n",
            "..     ...  ..  ...     ...     ...     ...   ...   ...       ...       ...   \n",
            "390     MS   M   20       U     LE3       A     2     2  services  services   \n",
            "391     MS   M   17       U     LE3       T     3     1  services  services   \n",
            "392     MS   M   21       R     GT3       T     1     1     other     other   \n",
            "393     MS   M   18       R     LE3       T     3     2  services     other   \n",
            "394     MS   M   19       U     LE3       T     1     1     other   at_home   \n",
            "\n",
            "     ... famrel freetime  goout  Dalc  Walc health absences  G1  G2  G3  \n",
            "0    ...      4        3      4     1     1      3        6   5   6   6  \n",
            "1    ...      5        3      3     1     1      3        4   5   5   6  \n",
            "2    ...      4        3      2     2     3      3       10   7   8  10  \n",
            "3    ...      3        2      2     1     1      5        2  15  14  15  \n",
            "4    ...      4        3      2     1     2      5        4   6  10  10  \n",
            "..   ...    ...      ...    ...   ...   ...    ...      ...  ..  ..  ..  \n",
            "390  ...      5        5      4     4     5      4       11   9   9   9  \n",
            "391  ...      2        4      5     3     4      2        3  14  16  16  \n",
            "392  ...      5        5      3     3     3      3        3  10   8   7  \n",
            "393  ...      4        4      1     3     4      5        0  11  12  10  \n",
            "394  ...      3        2      3     3     3      5        5   8   9   9  \n",
            "\n",
            "[395 rows x 33 columns]\n"
          ]
        }
      ]
    },
    {
      "cell_type": "markdown",
      "source": [
        "Accessing Records and Variables Python"
      ],
      "metadata": {
        "id": "QmQYwBdUcRD4"
      }
    },
    {
      "cell_type": "code",
      "source": [
        "import pandas as pd\n",
        "data = pd.read_csv('/content/student_data.csv')\n",
        "\n",
        "#accessing specific column\n",
        "df = pd.DataFrame(data, columns=[\"age\", \"sex\"])\n",
        "print(df)\n",
        "\n",
        "#accessing specific record\n",
        "record=data.loc[0]\n",
        "print(\"Accessing first record :\\n\" + str(record))"
      ],
      "metadata": {
        "colab": {
          "base_uri": "https://localhost:8080/"
        },
        "id": "mzgmYl5ocQVc",
        "outputId": "ac8af6e6-83da-44e9-a80f-f85aec0e485c"
      },
      "execution_count": 4,
      "outputs": [
        {
          "output_type": "stream",
          "name": "stdout",
          "text": [
            "     age sex\n",
            "0     18   F\n",
            "1     17   F\n",
            "2     15   F\n",
            "3     15   F\n",
            "4     16   F\n",
            "..   ...  ..\n",
            "390   20   M\n",
            "391   17   M\n",
            "392   21   M\n",
            "393   18   M\n",
            "394   19   M\n",
            "\n",
            "[395 rows x 2 columns]\n",
            "Accessing first record :\n",
            "school             GP\n",
            "sex                 F\n",
            "age                18\n",
            "address             U\n",
            "famsize           GT3\n",
            "Pstatus             A\n",
            "Medu                4\n",
            "Fedu                4\n",
            "Mjob          at_home\n",
            "Fjob          teacher\n",
            "reason         course\n",
            "guardian       mother\n",
            "traveltime          2\n",
            "studytime           2\n",
            "failures            0\n",
            "schoolsup         yes\n",
            "famsup             no\n",
            "paid               no\n",
            "activities         no\n",
            "nursery           yes\n",
            "higher            yes\n",
            "internet           no\n",
            "romantic           no\n",
            "famrel              4\n",
            "freetime            3\n",
            "goout               4\n",
            "Dalc                1\n",
            "Walc                1\n",
            "health              3\n",
            "absences            6\n",
            "G1                  5\n",
            "G2                  6\n",
            "G3                  6\n",
            "Name: 0, dtype: object\n"
          ]
        }
      ]
    }
  ]
}