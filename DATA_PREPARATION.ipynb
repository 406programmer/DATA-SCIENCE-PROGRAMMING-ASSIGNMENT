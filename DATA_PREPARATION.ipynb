{
  "nbformat": 4,
  "nbformat_minor": 0,
  "metadata": {
    "colab": {
      "provenance": [],
      "authorship_tag": "ABX9TyPDgXzWqWmKsWDCW1/4QY4H",
      "include_colab_link": true
    },
    "kernelspec": {
      "name": "python3",
      "display_name": "Python 3"
    },
    "language_info": {
      "name": "python"
    }
  },
  "cells": [
    {
      "cell_type": "markdown",
      "metadata": {
        "id": "view-in-github",
        "colab_type": "text"
      },
      "source": [
        "<a href=\"https://colab.research.google.com/github/406programmer/DATA-SCIENCE-PROGRAMMING-ASSIGNMENT/blob/main/DATA_PREPARATION.ipynb\" target=\"_parent\"><img src=\"https://colab.research.google.com/assets/colab-badge.svg\" alt=\"Open In Colab\"/></a>"
      ]
    },
    {
      "cell_type": "markdown",
      "source": [
        "# How to Add an Index Field Using Python"
      ],
      "metadata": {
        "id": "JZdRK6pqg5hc"
      }
    },
    {
      "cell_type": "code",
      "source": [
        "#importing python pandas and sklearn library\n",
        "import pandas as pd\n",
        "from sklearn.preprocessing import StandardScaler\n",
        "from scipy import stats\n",
        "\n",
        "# reading Student_data.csv file for getting data in python\n",
        "student_data = pd.read_csv('/content/student_data.csv')\n",
        "\n",
        "# Addin an Index Field in Python\n",
        "index = pd.Index(range(1, 396, 1))\n",
        "student_data = student_data.set_index(index)\n",
        "print(student_data)"
      ],
      "metadata": {
        "colab": {
          "base_uri": "https://localhost:8080/"
        },
        "id": "bUtwFXMng46q",
        "outputId": "81996235-498c-4ab3-abec-718ed68d7974"
      },
      "execution_count": 4,
      "outputs": [
        {
          "output_type": "stream",
          "name": "stdout",
          "text": [
            "    school sex  age address famsize Pstatus  Medu  Fedu      Mjob      Fjob  \\\n",
            "1       GP   F   18       U     GT3       A     4     4   at_home   teacher   \n",
            "2       GP   F   17       U     GT3       T     1     1   at_home     other   \n",
            "3       GP   F   15       U     LE3       T     1     1   at_home     other   \n",
            "4       GP   F   15       U     GT3       T     4     2    health  services   \n",
            "5       GP   F   16       U     GT3       T     3     3     other     other   \n",
            "..     ...  ..  ...     ...     ...     ...   ...   ...       ...       ...   \n",
            "391     MS   M   20       U     LE3       A     2     2  services  services   \n",
            "392     MS   M   17       U     LE3       T     3     1  services  services   \n",
            "393     MS   M   21       R     GT3       T     1     1     other     other   \n",
            "394     MS   M   18       R     LE3       T     3     2  services     other   \n",
            "395     MS   M   19       U     LE3       T     1     1     other   at_home   \n",
            "\n",
            "     ... famrel freetime  goout  Dalc  Walc health absences  G1  G2  G3  \n",
            "1    ...      4        3      4     1     1      3        6   5   6   6  \n",
            "2    ...      5        3      3     1     1      3        4   5   5   6  \n",
            "3    ...      4        3      2     2     3      3       10   7   8  10  \n",
            "4    ...      3        2      2     1     1      5        2  15  14  15  \n",
            "5    ...      4        3      2     1     2      5        4   6  10  10  \n",
            "..   ...    ...      ...    ...   ...   ...    ...      ...  ..  ..  ..  \n",
            "391  ...      5        5      4     4     5      4       11   9   9   9  \n",
            "392  ...      2        4      5     3     4      2        3  14  16  16  \n",
            "393  ...      5        5      3     3     3      3        3  10   8   7  \n",
            "394  ...      4        4      1     3     4      5        0  11  12  10  \n",
            "395  ...      3        2      3     3     3      5        5   8   9   9  \n",
            "\n",
            "[395 rows x 33 columns]\n"
          ]
        }
      ]
    },
    {
      "cell_type": "markdown",
      "source": [
        "How to Change Misleading Field Values Using Python"
      ],
      "metadata": {
        "id": "PiSo4islhWQF"
      }
    },
    {
      "cell_type": "code",
      "execution_count": 5,
      "metadata": {
        "colab": {
          "base_uri": "https://localhost:8080/"
        },
        "id": "q8zi6Qc3gy9k",
        "outputId": "18bc36dd-cf18-4af0-fdc9-644eeea8caa1"
      },
      "outputs": [
        {
          "output_type": "stream",
          "name": "stdout",
          "text": [
            "0      11\n",
            "1      11\n",
            "2      11\n",
            "3       5\n",
            "4       5\n",
            "       ..\n",
            "390     4\n",
            "391     2\n",
            "392    11\n",
            "393     5\n",
            "394     5\n",
            "Name: health, Length: 395, dtype: int64\n"
          ]
        }
      ],
      "source": [
        "#importing python pandas and sklearn library\n",
        "import pandas as pd\n",
        "from sklearn.preprocessing import StandardScaler\n",
        "from scipy import stats\n",
        "\n",
        "# reading Student_data.csv file for getting data in python\n",
        "student_data = pd.read_csv('/content/student_data.csv')\n",
        "\n",
        "#changing misleading values\n",
        "student_data['health'] = student_data['health'].replace({3: 11})\n",
        "print(student_data['health'])"
      ]
    },
    {
      "cell_type": "markdown",
      "source": [
        "# How to Re Express Categorical Field Values Using Python"
      ],
      "metadata": {
        "id": "uba3D4Hrhg0K"
      }
    },
    {
      "cell_type": "code",
      "source": [
        "#importing python pandas and sklearn library\n",
        "import pandas as pd\n",
        "from sklearn.preprocessing import StandardScaler\n",
        "from scipy import stats\n",
        "\n",
        "# reading Student_data.csv file for getting data in python\n",
        "student_data = pd.read_csv('/content/student_data.csv')\n",
        "\n",
        "# reexpressing categorical fields\n",
        "value_mapping = {\n",
        "    'teacher': 'teaching job',\n",
        "    'at_home': 'unemployed',\n",
        "\n",
        "}\n",
        "student_data['Mjob'] = student_data['Mjob'].replace(value_mapping)\n",
        "print(student_data['Mjob'])"
      ],
      "metadata": {
        "colab": {
          "base_uri": "https://localhost:8080/"
        },
        "id": "_mS7kshjhhig",
        "outputId": "92f480f2-957d-4bca-9d8e-30f494bf753b"
      },
      "execution_count": 6,
      "outputs": [
        {
          "output_type": "stream",
          "name": "stdout",
          "text": [
            "0      unemployed\n",
            "1      unemployed\n",
            "2      unemployed\n",
            "3          health\n",
            "4           other\n",
            "          ...    \n",
            "390      services\n",
            "391      services\n",
            "392         other\n",
            "393      services\n",
            "394         other\n",
            "Name: Mjob, Length: 395, dtype: object\n"
          ]
        }
      ]
    },
    {
      "cell_type": "markdown",
      "source": [
        " How to Standardise Numeric Fields Using Python"
      ],
      "metadata": {
        "id": "yauBVp46hwNV"
      }
    },
    {
      "cell_type": "code",
      "source": [
        "import pandas as pd\n",
        "from sklearn.preprocessing import StandardScaler\n",
        "from scipy import stats\n",
        "\n",
        "df=pd.read_csv(\"/content/diabetes.csv\")\n",
        "\n",
        "numeric_columns = ['Glucose', 'BloodPressure', 'Insulin']\n",
        "scaler = StandardScaler()\n",
        "df[numeric_columns] = scaler.fit_transform(df[numeric_columns])\n",
        "print(df[numeric_columns])"
      ],
      "metadata": {
        "colab": {
          "base_uri": "https://localhost:8080/"
        },
        "id": "22_9xpqihwpw",
        "outputId": "dfbf5ba7-98db-4cb4-af35-0d1fba1663ca"
      },
      "execution_count": 10,
      "outputs": [
        {
          "output_type": "stream",
          "name": "stdout",
          "text": [
            "      Glucose  BloodPressure   Insulin\n",
            "0    0.848324       0.149641 -0.692891\n",
            "1   -1.123396      -0.160546 -0.692891\n",
            "2    1.943724      -0.263941 -0.692891\n",
            "3   -0.998208      -0.160546  0.123302\n",
            "4    0.504055      -1.504687  0.765836\n",
            "..        ...            ...       ...\n",
            "763 -0.622642       0.356432  0.870031\n",
            "764  0.034598       0.046245 -0.692891\n",
            "765  0.003301       0.149641  0.279594\n",
            "766  0.159787      -0.470732 -0.692891\n",
            "767 -0.873019       0.046245 -0.692891\n",
            "\n",
            "[768 rows x 3 columns]\n"
          ]
        }
      ]
    },
    {
      "cell_type": "markdown",
      "source": [
        "# # How to Identify Outliers Using Python"
      ],
      "metadata": {
        "id": "wAU_YRVbiWkJ"
      }
    },
    {
      "cell_type": "code",
      "source": [
        "import pandas as pd\n",
        "from sklearn.preprocessing import StandardScaler\n",
        "from scipy import stats\n",
        "\n",
        "df=pd.read_csv(\"/content/diabetes.csv\")\n",
        "outliers = pd.DataFrame()\n",
        "for column in df.columns:\n",
        "    if df[column].dtype != 'O':  # Exclude non-numeric columns\n",
        "        z_scores = stats.zscore(df[column])\n",
        "        outliers[column] = (z_scores > 3) | (z_scores < -3)\n",
        "outliers_rows = df[outliers.any(axis=1)]\n",
        "print(outliers_rows)\n"
      ],
      "metadata": {
        "colab": {
          "base_uri": "https://localhost:8080/"
        },
        "id": "1oo5nfduiXUl",
        "outputId": "5ae5fa85-5a4d-4fdf-e599-6137a07293d9"
      },
      "execution_count": 12,
      "outputs": [
        {
          "output_type": "stream",
          "name": "stdout",
          "text": [
            "     Pregnancies  Glucose  BloodPressure  SkinThickness  Insulin   BMI  \\\n",
            "4              0      137             40             35      168  43.1   \n",
            "7             10      115              0              0        0  35.3   \n",
            "8              2      197             70             45      543  30.5   \n",
            "9              8      125             96              0        0   0.0   \n",
            "13             1      189             60             23      846  30.1   \n",
            "..           ...      ...            ...            ...      ...   ...   \n",
            "695            7      142             90             24      480  30.4   \n",
            "697            0       99              0              0        0  25.0   \n",
            "703            2      129              0              0        0  38.5   \n",
            "706           10      115              0              0        0   0.0   \n",
            "753            0      181             88             44      510  43.3   \n",
            "\n",
            "     DiabetesPedigreeFunction  Age  Outcome  \n",
            "4                       2.288   33        1  \n",
            "7                       0.134   29        0  \n",
            "8                       0.158   53        1  \n",
            "9                       0.232   54        1  \n",
            "13                      0.398   59        1  \n",
            "..                        ...  ...      ...  \n",
            "695                     0.128   43        1  \n",
            "697                     0.253   22        0  \n",
            "703                     0.304   41        0  \n",
            "706                     0.261   30        1  \n",
            "753                     0.222   26        1  \n",
            "\n",
            "[80 rows x 9 columns]\n"
          ]
        }
      ]
    }
  ]
}